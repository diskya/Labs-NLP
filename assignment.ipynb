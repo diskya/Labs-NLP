{
 "cells": [
  {
   "cell_type": "markdown",
   "metadata": {},
   "source": [
    "# [COM6513] Assignment: Topic Classification with a Feedforward Network\n",
    "\n",
    "\n",
    "### Instructor: Nikos Aletras\n",
    "\n",
    "\n",
    "The goal of this assignment is to develop a Feedforward neural network for topic classification. \n",
    "\n",
    "\n",
    "\n",
    "For that purpose, you will implement:\n",
    "\n",
    "- Text processing methods for transforming raw text data into input vectors for your network  (**1 mark**)\n",
    "\n",
    "\n",
    "- A Feedforward network consisting of:\n",
    "    - **One-hot** input layer mapping words into an **Embedding weight matrix** (**1 mark**)\n",
    "    - **One hidden layer** computing the mean embedding vector of all words in input followed by a **ReLU activation function** (**1 mark**)\n",
    "    - **Output layer** with a **softmax** activation. (**1 mark**)\n",
    "\n",
    "\n",
    "- The Stochastic Gradient Descent (SGD) algorithm with **back-propagation** to learn the weights of your Neural network. Your algorithm should:\n",
    "    - Use (and minimise) the **Categorical Cross-entropy loss** function (**1 mark**)\n",
    "    - Perform a **Forward pass** to compute intermediate outputs (**2 marks**)\n",
    "    - Perform a **Backward pass** to compute gradients and update all sets of weights (**3 marks**)\n",
    "    - Implement and use **Dropout** after each hidden layer for regularisation (**1 marks**)\n",
    "\n",
    "\n",
    "\n",
    "- Discuss how did you choose hyperparameters? You can tune the learning rate (hint: choose small values), embedding size {e.g. 50, 300, 500} and the dropout rate {e.g. 0.2, 0.5}. Please use tables or graphs to show training and validation performance for each hyperparameter combination  (**2 marks**). \n",
    "\n",
    "\n",
    "\n",
    "- After training a model, plot the learning process (i.e. training and validation loss in each epoch) using a line plot and report accuracy. Does your model overfit, underfit or is about right? (**1 mark**).\n",
    "\n",
    "\n",
    "\n",
    "- Re-train your network by using pre-trained embeddings ([GloVe](https://nlp.stanford.edu/projects/glove/)) trained on large corpora. Instead of randomly initialising the embedding weights matrix, you should initialise it with the pre-trained weights. During training, you should not update them (i.e. weight freezing) and backprop should stop before computing gradients for updating embedding weights. Report results by performing hyperparameter tuning and plotting the learning process. Do you get better performance? (**1 marks**).\n",
    "\n",
    "\n",
    "\n",
    "- Extend you Feedforward network by adding more hidden layers (e.g. one more or two). How does it affect the performance? Note: You need to repeat hyperparameter tuning, but the number of combinations grows exponentially. Therefore, you need to choose a subset of all possible combinations (**3 marks**)\n",
    "\n",
    "\n",
    "- Provide well documented and commented code describing all of your choices. In general, you are free to make decisions about text processing (e.g. punctuation, numbers, vocabulary size) and hyperparameter values. We expect to see justifications and discussion for all of your choices. You must provide detailed explanations of your implementation, provide a detailed analysis of the results (e.g. why a model performs better than other models etc.) including error analyses (e.g. examples and discussion/analysis of missclasifications etc.)  (**10 marks**). \n",
    "\n",
    "\n",
    "\n",
    "- Provide efficient solutions by using Numpy arrays when possible. Executing the whole notebook with your code should not take more than 10 minutes on any standard computer (e.g. Intel Core i5 CPU, 8 or 16GB RAM) excluding hyperparameter tuning runs and loading the pretrained vectors. You can find tips in Lab 1 (**2 marks**). \n",
    "\n",
    "\n",
    "\n",
    "### Data \n",
    "\n",
    "The data you will use for the task is a subset of the [AG News Corpus](http://groups.di.unipi.it/~gulli/AG_corpus_of_news_articles.html) and you can find it in the `./data_topic` folder in CSV format:\n",
    "\n",
    "- `data_topic/train.csv`: contains 2,400 news articles, 800 for each class to be used for training.\n",
    "- `data_topic/dev.csv`: contains 150 news articles, 50 for each class to be used for hyperparameter selection and monitoring the training process.\n",
    "- `data_topic/test.csv`: contains 900 news articles, 300 for each class to be used for testing.\n",
    "\n",
    "Class 1: Politics, Class 2: Sports, Class 3: Economy\n",
    "\n",
    "### Pre-trained Embeddings\n",
    "\n",
    "You can download pre-trained GloVe embeddings trained on Common Crawl (840B tokens, 2.2M vocab, cased, 300d vectors, 2.03 GB download) from [here](http://nlp.stanford.edu/data/glove.840B.300d.zip). No need to unzip, the file is large.\n",
    "\n",
    "### Save Memory\n",
    "\n",
    "To save RAM, when you finish each experiment you can delete the weights of your network using `del W` followed by Python's garbage collector `gc.collect()`\n",
    "\n",
    "\n"
   ]
  },
  {
   "cell_type": "markdown",
   "metadata": {},
   "source": [
    "### Submission Instructions\n",
    "\n",
    "You **must** submit a Jupyter Notebook file (assignment_yourusername.ipynb) and an exported PDF version (you can do it from Jupyter: `File->Download as->PDF via Latex`, you need to have a Latex distribution installed e.g. MikTex or MacTex and pandoc). If you are unable to export the pdf via Latex, you can print the notebook web page to a pdf file from your browser (e.g. on Firefox: File->Print->Save to PDF).\n",
    "\n",
    "\n",
    "You are advised to follow the code structure given in this notebook by completing all given funtions. You can also write any auxilliary/helper functions (and arguments for the functions) that you might need but note that you can provide a full solution without any such functions. Similarly, you can just use only the packages imported below but you are free to use any functionality from the [Python Standard Library](https://docs.python.org/3/library/index.html), NumPy, SciPy (excluding built-in softmax funtcions) and Pandas. You are **not allowed to use any third-party library** such as Scikit-learn (apart from metric functions already provided), NLTK, Spacy, Keras, Pytorch etc.. You should mention if you've used Windows to write and test your code because we mostly use Unix based machines for marking (e.g. Ubuntu, MacOS). \n",
    "\n",
    "There is no single correct answer on what your accuracy should be, but correct implementations usually achieve F1-scores around 80\\% or higher. The quality of the analysis of the results and discussion is as important as the implementation and accuracy of your models. Please be brief and consice in your discussion and analyses. \n",
    "\n",
    "This assignment will be marked out of 30. It is worth 30\\% of your final grade in the module.\n",
    "\n",
    "The deadline for this assignment is **23:59 on Mon, 12 Apr 2024** and it needs to be submitted via Blackboard. Standard departmental penalties for lateness will be applied. We use a range of strategies to **detect [unfair means](https://www.sheffield.ac.uk/ssid/unfair-means/index)**, including Turnitin which helps detect plagiarism. Use of unfair means would result in getting a failing grade.\n",
    "\n"
   ]
  },
  {
   "cell_type": "code",
   "execution_count": 105,
   "metadata": {
    "ExecuteTime": {
     "end_time": "2020-04-02T15:00:18.625532Z",
     "start_time": "2020-04-02T15:00:17.377733Z"
    },
    "scrolled": true
   },
   "outputs": [],
   "source": [
    "import pandas as pd\n",
    "import numpy as np\n",
    "from collections import Counter\n",
    "import re\n",
    "import matplotlib.pyplot as plt\n",
    "from sklearn.metrics import accuracy_score, precision_score, recall_score, f1_score\n",
    "import random\n",
    "from time import localtime, strftime\n",
    "from scipy.stats import spearmanr,pearsonr\n",
    "import zipfile\n",
    "import gc\n",
    "\n",
    "# fixing random seed for reproducibility\n",
    "random.seed(123)\n",
    "np.random.seed(123)\n"
   ]
  },
  {
   "cell_type": "markdown",
   "metadata": {},
   "source": [
    "## Transform Raw texts into training and development data\n",
    "\n",
    "First, you need to load the training, development and test sets from their corresponding CSV files (tip: you can use Pandas dataframes)."
   ]
  },
  {
   "cell_type": "code",
   "execution_count": 106,
   "metadata": {
    "ExecuteTime": {
     "end_time": "2020-04-02T14:26:39.748484Z",
     "start_time": "2020-04-02T14:26:39.727404Z"
    },
    "scrolled": true
   },
   "outputs": [],
   "source": [
    "# load the data\n",
    "train_data = pd.read_csv(\"./data_topic/train.csv\",names=[\"label\",\"text\"])\n",
    "dev_data = pd.read_csv(\"./data_topic/dev.csv\",names=[\"label\",\"text\"])\n",
    "test_data = pd.read_csv(\"./data_topic/test.csv\",names=[\"label\",\"text\"])"
   ]
  },
  {
   "cell_type": "markdown",
   "metadata": {},
   "source": [
    "# Create input representations\n",
    "\n",
    "\n",
    "To train your Feedforward network, you first need to obtain input representations given a vocabulary. One-hot encoding requires large memory capacity. Therefore, we will instead represent documents as lists of vocabulary indices (each word corresponds to a vocabulary index). \n",
    "\n",
    "\n",
    "## Text Pre-Processing Pipeline\n",
    "\n",
    "To obtain a vocabulary of words. You should: \n",
    "- tokenise all texts into a list of unigrams (tip: you can re-use the functions from Assignment 1) \n",
    "- remove stop words (using the one provided or one of your preference) \n",
    "- remove unigrams appearing in less than K documents\n",
    "- use the remaining to create a vocabulary of the top-N most frequent unigrams in the entire corpus.\n"
   ]
  },
  {
   "cell_type": "code",
   "execution_count": 107,
   "metadata": {
    "ExecuteTime": {
     "end_time": "2020-04-02T14:26:40.851926Z",
     "start_time": "2020-04-02T14:26:40.847500Z"
    },
    "scrolled": true
   },
   "outputs": [],
   "source": [
    "stop_words = ['a','in','on','at','and','or', \n",
    "              'to', 'the', 'of', 'an', 'by', \n",
    "              'as', 'is', 'was', 'were', 'been', 'be', \n",
    "              'are','for', 'this', 'that', 'these', 'those', 'you', 'i', 'if',\n",
    "             'it', 'he', 'she', 'we', 'they', 'will', 'have', 'has',\n",
    "              'do', 'did', 'can', 'could', 'who', 'which', 'what',\n",
    "              'but', 'not', 'there', 'no', 'does', 'not', 'so', 've', 'their',\n",
    "             'his', 'her', 'they', 'them', 'from', 'with', 'its']\n"
   ]
  },
  {
   "cell_type": "markdown",
   "metadata": {},
   "source": [
    "### Unigram extraction from a document\n",
    "\n",
    "You first need to implement the `extract_ngrams` function. It takes as input:\n",
    "- `x_raw`: a string corresponding to the raw text of a document\n",
    "- `ngram_range`: a tuple of two integers denoting the type of ngrams you want to extract, e.g. (1,2) denotes extracting unigrams and bigrams.\n",
    "- `token_pattern`: a string to be used within a regular expression to extract all tokens. Note that data is already tokenised so you could opt for a simple white space tokenisation.\n",
    "- `stop_words`: a list of stop words\n",
    "- `vocab`: a given vocabulary. It should be used to extract specific features.\n",
    "\n",
    "and returns:\n",
    "\n",
    "- a list of all extracted features.\n"
   ]
  },
  {
   "cell_type": "code",
   "execution_count": 108,
   "metadata": {
    "ExecuteTime": {
     "end_time": "2020-05-11T08:23:17.181553Z",
     "start_time": "2020-05-11T08:23:17.178314Z"
    },
    "scrolled": true
   },
   "outputs": [],
   "source": [
    "ngram_range = (1,1) # setup the range of n-grams for comparison\n",
    "\n",
    "def extract_ngrams(x_raw, ngram_range=(1,3), token_pattern=r'\\b[A-Za-z][A-Za-z]+\\b', \n",
    "                   stop_words=[], vocab=set()):\n",
    "\n",
    "    # Tokenize the text based on the provided pattern\n",
    "    tokens = re.findall(token_pattern, x_raw)\n",
    "\n",
    "    tokens = [token.lower() for token in tokens if token.lower() not in stop_words]\n",
    "    \n",
    "    # Initialize list to store the resulting n-grams\n",
    "    x = []\n",
    "    \n",
    "    # Generate n-grams for each n in the specified range\n",
    "    for n in range(ngram_range[0], ngram_range[1] + 1):\n",
    "        # For unigrams, the tokens list is already what we need\n",
    "        if n == 1:\n",
    "            ngrams = tokens\n",
    "        else:\n",
    "            # For n > 1, generate n-grams\n",
    "            ngrams = [' '.join(tokens[i:i+n]) for i in range(len(tokens)-n+1)]\n",
    "        \n",
    "        # Filter n-grams based on the vocab, if provided\n",
    "        if vocab:\n",
    "            ngrams = [ngram for ngram in ngrams if ngram in vocab]\n",
    "        \n",
    "        # Append the n-grams to the result list\n",
    "        x.extend(ngrams)\n",
    "\n",
    "    return x"
   ]
  },
  {
   "cell_type": "markdown",
   "metadata": {},
   "source": [
    "### Create a vocabulary of n-grams\n",
    "\n",
    "Then the `get_vocab` function will be used to (1) create a vocabulary of ngrams; (2) count the document frequencies of ngrams; (3) their raw frequency. It takes as input:\n",
    "- `X_raw`: a list of strings each corresponding to the raw text of a document\n",
    "- `ngram_range`: a tuple of two integers denoting the type of ngrams you want to extract, e.g. (1,2) denotes extracting unigrams and bigrams.\n",
    "- `token_pattern`: a string to be used within a regular expression to extract all tokens. Note that data is already tokenised so you could opt for a simple white space tokenisation.\n",
    "- `stop_words`: a list of stop words\n",
    "- `min_df`: keep ngrams with a minimum document frequency.\n",
    "- `keep_topN`: keep top-N more frequent ngrams.\n",
    "\n",
    "and returns:\n",
    "\n",
    "- `vocab`: a set of the n-grams that will be used as features.\n",
    "- `df`: a Counter (or dict) that contains ngrams as keys and their corresponding document frequency as values.\n",
    "- `ngram_counts`: counts of each ngram in vocab\n"
   ]
  },
  {
   "cell_type": "code",
   "execution_count": 109,
   "metadata": {
    "ExecuteTime": {
     "end_time": "2020-04-02T14:26:42.563876Z",
     "start_time": "2020-04-02T14:26:42.557967Z"
    },
    "scrolled": true
   },
   "outputs": [],
   "source": [
    "def get_vocab(X_raw, ngram_range=ngram_range, token_pattern=r'\\b[A-Za-z][A-Za-z]+\\b', \n",
    "              min_df=0, keep_topN=0, \n",
    "              stop_words=[]):\n",
    "    \n",
    "    # Initialize Counters to store document frequency (DF) and raw ngram counts\n",
    "    df = Counter()  # Document Frequency (DF) of n-grams\n",
    "    ngram_counts = Counter()  # Raw frequency of n-grams\n",
    "\n",
    "    # Process each document\n",
    "    for document in X_raw:\n",
    "        # Extract n-grams from the document\n",
    "        ngrams_in_doc = extract_ngrams(document, ngram_range, token_pattern, stop_words)\n",
    "        \n",
    "        # Update total ngram counts\n",
    "        ngram_counts.update(ngrams_in_doc)\n",
    "        \n",
    "        # Update document frequency (DF) - count each ngram once per document\n",
    "        unique_ngrams_in_doc = set(ngrams_in_doc)\n",
    "        df.update(unique_ngrams_in_doc)\n",
    "    \n",
    "    # Filter ngrams by document frequency (min_df)\n",
    "    if min_df > 0:\n",
    "        df = Counter({ngram: freq for ngram, freq in df.items() if freq >= min_df})\n",
    "    \n",
    "    # Keep top-N more frequent ngrams\n",
    "    if keep_topN > 0:\n",
    "        # Take the top-N most frequent n-grams\n",
    "        most_common_ngrams = ngram_counts.most_common(keep_topN)\n",
    "        vocab = set(ngram for ngram, count in most_common_ngrams)\n",
    "        # Adjust df to only include document frequencies of n-grams in the vocabulary\n",
    "        df = Counter({ngram: df[ngram] for ngram in vocab})\n",
    "        # Adjust ngram_counts to only include counts of n-grams in the vocabulary\n",
    "        ngram_counts = Counter({ngram: ngram_counts[ngram] for ngram in vocab})\n",
    "    else:\n",
    "        vocab = set(df.keys())  # All unique n-grams\n",
    "    \n",
    "    return vocab, df, ngram_counts"
   ]
  },
  {
   "cell_type": "markdown",
   "metadata": {},
   "source": [
    "Now you should use `get_vocab` to create your vocabulary and get document and raw frequencies of unigrams:"
   ]
  },
  {
   "cell_type": "code",
   "execution_count": 110,
   "metadata": {
    "ExecuteTime": {
     "end_time": "2020-04-02T14:26:43.577997Z",
     "start_time": "2020-04-02T14:26:43.478950Z"
    },
    "scrolled": true
   },
   "outputs": [],
   "source": [
    "# Combine all the text data\n",
    "X_raw = pd.concat([train_data['text'], dev_data['text'], test_data['text']]).tolist()\n",
    "\n",
    "# Get the vocabulary and document frequency\n",
    "vocab, df, ngram_counts = get_vocab(X_raw, ngram_range=ngram_range, token_pattern=r'\\b[A-Za-z][A-Za-z]+\\b', \n",
    "                                    min_df=5, keep_topN=0, stop_words=stop_words)"
   ]
  },
  {
   "cell_type": "markdown",
   "metadata": {},
   "source": [
    "Then, you need to create vocabulary id -> word and word -> vocabulary id dictionaries for reference:"
   ]
  },
  {
   "cell_type": "code",
   "execution_count": 111,
   "metadata": {
    "ExecuteTime": {
     "end_time": "2020-04-02T14:26:44.069661Z",
     "start_time": "2020-04-02T14:26:44.065058Z"
    },
    "scrolled": true
   },
   "outputs": [],
   "source": [
    "# vocabulary id -> word dictionary\n",
    "id2word = {i: word for i, word in enumerate(vocab)}\n",
    "# word -> vocabulary id dictionary\n",
    "word2id = {word: i for i, word in enumerate(vocab)}"
   ]
  },
  {
   "cell_type": "markdown",
   "metadata": {},
   "source": [
    "### Convert the list of unigrams  into a list of vocabulary indices"
   ]
  },
  {
   "cell_type": "markdown",
   "metadata": {},
   "source": [
    "Storing actual one-hot vectors into memory for all words in the entire data set is prohibitive. Instead, we will store word indices in the vocabulary and look-up the weight matrix. This is equivalent of doing a dot product between an one-hot vector and the weight matrix. \n",
    "\n",
    "First, represent documents in train, dev and test sets as lists of words in the vocabulary:"
   ]
  },
  {
   "cell_type": "code",
   "execution_count": 112,
   "metadata": {
    "ExecuteTime": {
     "end_time": "2020-04-02T14:26:45.047887Z",
     "start_time": "2020-04-02T14:26:44.920631Z"
    },
    "scrolled": true
   },
   "outputs": [],
   "source": [
    "def get_words_and_indices(dataset, word2id):\n",
    "    dataset_words = []\n",
    "    dataset_indices = []\n",
    "\n",
    "    for doc in dataset['text']:\n",
    "        # Extract n-grams from the document and filter out stop words\n",
    "        doc_words = extract_ngrams(doc, ngram_range=ngram_range, stop_words=stop_words)\n",
    "        # Convert words into vocabulary indices using the word2id dictionary\n",
    "        doc_indices = [word2id[word] for word in doc_words if word in word2id]\n",
    "        # Append the list of unigrams for the document to the dataset_words list\n",
    "        dataset_words.append(doc_words)\n",
    "        # Append the list of vocabulary indices for the document to the dataset_indices list\n",
    "        dataset_indices.append(doc_indices)\n",
    "    \n",
    "    return dataset_words, dataset_indices\n"
   ]
  },
  {
   "cell_type": "markdown",
   "metadata": {},
   "source": [
    "Then convert them into lists of indices in the vocabulary:"
   ]
  },
  {
   "cell_type": "code",
   "execution_count": 113,
   "metadata": {
    "ExecuteTime": {
     "end_time": "2020-04-02T14:26:45.752658Z",
     "start_time": "2020-04-02T14:26:45.730409Z"
    },
    "scrolled": true
   },
   "outputs": [],
   "source": [
    "# Apply above function to process and convert datasets into lists of vocabulary indices and unigrams\n",
    "train_words, X_tr = get_words_and_indices(train_data, word2id)\n",
    "dev_words, X_dev = get_words_and_indices(dev_data, word2id)\n",
    "test_words, X_te = get_words_and_indices(test_data, word2id)"
   ]
  },
  {
   "cell_type": "markdown",
   "metadata": {},
   "source": [
    "Put the labels `Y` for train, dev and test sets into arrays: "
   ]
  },
  {
   "cell_type": "code",
   "execution_count": 114,
   "metadata": {
    "ExecuteTime": {
     "end_time": "2020-04-02T15:03:13.183996Z",
     "start_time": "2020-04-02T15:03:13.077575Z"
    },
    "scrolled": true
   },
   "outputs": [],
   "source": [
    "# convert the label as zero-base indexed\n",
    "Y_tr = train_data['label'].values - 1\n",
    "Y_dev = dev_data['label'].values - 1\n",
    "Y_te = test_data['label'].values - 1"
   ]
  },
  {
   "cell_type": "markdown",
   "metadata": {},
   "source": [
    "# Network Architecture\n",
    "\n",
    "Your network should pass each word index into its corresponding embedding by looking-up on the embedding matrix and then compute the first hidden layer $\\mathbf{h}_1$:\n",
    "\n",
    "$$\\mathbf{h}_1 = \\frac{1}{|x|}\\sum_i W^e_i, i \\in x$$\n",
    "\n",
    "where $|x|$ is the number of words in the document and $W^e$ is an embedding matrix $|V|\\times d$, $|V|$ is the size of the vocabulary and $d$ the embedding size.\n",
    "\n",
    "Then $\\mathbf{h}_1$ should be passed through a ReLU activation function:\n",
    "\n",
    "$$\\mathbf{a}_1 = relu(\\mathbf{h}_1)$$\n",
    "\n",
    "Finally the hidden layer is passed to the output layer:\n",
    "\n",
    "\n",
    "$$\\mathbf{y} = \\text{softmax}(\\mathbf{a}_1W) $$ \n",
    "where $W$ is a matrix $d \\times |{\\cal Y}|$, $|{\\cal Y}|$ is the number of classes.\n",
    "\n",
    "During training, $\\mathbf{a}_1$ should be multiplied with a dropout mask vector (elementwise) for regularisation before it is passed to the output layer.\n",
    "\n",
    "You can extend to a deeper architecture by passing a hidden layer to another one:\n",
    "\n",
    "$$\\mathbf{h_i} = \\mathbf{a}_{i-1}W_i $$\n",
    "\n",
    "$$\\mathbf{a_i} = relu(\\mathbf{h_i}) $$\n",
    "\n"
   ]
  },
  {
   "cell_type": "markdown",
   "metadata": {},
   "source": [
    "# Network Training\n",
    "\n",
    "First we need to define the parameters of our network by initiliasing the weight matrices. For that purpose, you should implement the `network_weights` function that takes as input:\n",
    "\n",
    "- `vocab_size`: the size of the vocabulary\n",
    "- `embedding_dim`: the size of the word embeddings\n",
    "- `hidden_dim`: a list of the sizes of any subsequent hidden layers. Empty if there are no hidden layers between the average embedding and the output layer \n",
    "- `num_classes`: the number of the classes for the output layer\n",
    "\n",
    "and returns:\n",
    "\n",
    "- `W`: a dictionary mapping from layer index (e.g. 0 for the embedding matrix) to the corresponding weight matrix initialised with small random numbers (hint: use numpy.random.uniform with from -0.1 to 0.1)\n",
    "\n",
    "Make sure that the dimensionality of each weight matrix is compatible with the previous and next weight matrix, otherwise you won't be able to perform forward and backward passes. Consider also using np.float32 precision to save memory."
   ]
  },
  {
   "cell_type": "code",
   "execution_count": 115,
   "metadata": {
    "ExecuteTime": {
     "end_time": "2020-04-02T15:41:20.918617Z",
     "start_time": "2020-04-02T15:41:20.915597Z"
    },
    "scrolled": true
   },
   "outputs": [],
   "source": [
    "def network_weights(vocab_size=1001, \n",
    "                    embedding_dim=300, \n",
    "                    hidden_dim=[], \n",
    "                    num_classes=3, \n",
    "                    init_val=0.5):\n",
    "    \n",
    "    list_of_layer = [vocab_size, embedding_dim] + hidden_dim + [num_classes]\n",
    "  \n",
    "    # Initiallize W as dictionary, id with [W0,w1,W2 .....]\n",
    "    W = dict()\n",
    "    \n",
    "    for id_layer in range(len(list_of_layer) -1):\n",
    "        W[id_layer] = np.random.uniform(-init_val, init_val,\n",
    "                                        (list_of_layer[id_layer],list_of_layer[id_layer +1])).astype(\"float32\")\n",
    "            \n",
    "    return W\n",
    "    "
   ]
  },
  {
   "cell_type": "markdown",
   "metadata": {
    "ExecuteTime": {
     "end_time": "2020-04-01T10:31:57.970152Z",
     "start_time": "2020-04-01T10:31:57.966123Z"
    }
   },
   "source": [
    "Then you need to develop a `softmax` function (same as in Assignment 1) to be used in the output layer. \n",
    "\n",
    "It takes as input `z` (array of real numbers) and returns `sig` (the softmax of `z`)\n",
    "\n"
   ]
  },
  {
   "cell_type": "code",
   "execution_count": 116,
   "metadata": {},
   "outputs": [],
   "source": [
    "def softmax(z):\n",
    "    z_shifted = z - np.max(z) # Subtract max value from z for numerical stability\n",
    "    upper = np.exp(z_shifted) # exponentials of shifted input\n",
    "    bottom = np.sum(upper) # sum of exponentials\n",
    "    sig = upper / bottom    \n",
    "    return sig"
   ]
  },
  {
   "cell_type": "markdown",
   "metadata": {},
   "source": [
    "Now you need to implement the categorical cross entropy loss by slightly modifying the function from Assignment 1 to depend only on the true label `y` and the class probabilities vector `y_preds`:\n"
   ]
  },
  {
   "cell_type": "code",
   "execution_count": 117,
   "metadata": {
    "ExecuteTime": {
     "end_time": "2020-04-02T14:26:51.360838Z",
     "start_time": "2020-04-02T14:26:51.356935Z"
    },
    "scrolled": true
   },
   "outputs": [],
   "source": [
    "def categorical_loss(y, y_preds):\n",
    "    # label y is zero-indexed in previous code\n",
    "    l = -np.log(y_preds[y]) \n",
    "    return l"
   ]
  },
  {
   "cell_type": "markdown",
   "metadata": {
    "ExecuteTime": {
     "end_time": "2020-03-31T15:02:56.149535Z",
     "start_time": "2020-03-31T15:02:56.145738Z"
    }
   },
   "source": [
    "Then, implement the `relu` function to introduce non-linearity after each hidden layer of your network \n",
    "(during the forward pass): \n",
    "\n",
    "$$relu(z_i)= max(z_i,0)$$\n",
    "\n",
    "and the `relu_derivative` function to compute its derivative (used in the backward pass):\n",
    "\n",
    "  \n",
    "  relu_derivative($z_i$)=0, if $z_i$<=0, 1 otherwise.\n",
    "  \n",
    "\n",
    "\n",
    "Note that both functions take as input a vector $z$ \n",
    "\n",
    "Hint use .copy() to avoid in place changes in array z"
   ]
  },
  {
   "cell_type": "code",
   "execution_count": 118,
   "metadata": {
    "ExecuteTime": {
     "end_time": "2020-04-02T14:26:52.665236Z",
     "start_time": "2020-04-02T14:26:52.661519Z"
    },
    "scrolled": true
   },
   "outputs": [],
   "source": [
    "def relu(z):\n",
    "    a = np.maximum(0,z)\n",
    "    return a\n",
    "    \n",
    "def relu_derivative(z):\n",
    "    dz = np.where(z > 0, 1, 0)\n",
    "    return dz"
   ]
  },
  {
   "cell_type": "markdown",
   "metadata": {},
   "source": [
    "During training you should also apply a dropout mask element-wise after the activation function (i.e. vector of ones with a random percentage set to zero). The `dropout_mask` function takes as input:\n",
    "\n",
    "- `size`: the size of the vector that we want to apply dropout\n",
    "- `dropout_rate`: the percentage of elements that will be randomly set to zeros\n",
    "\n",
    "and returns:\n",
    "\n",
    "- `dropout_vec`: a vector with binary values (0 or 1)"
   ]
  },
  {
   "cell_type": "code",
   "execution_count": 119,
   "metadata": {
    "ExecuteTime": {
     "end_time": "2020-04-02T14:26:53.429192Z",
     "start_time": "2020-04-02T14:26:53.425301Z"
    },
    "scrolled": true
   },
   "outputs": [],
   "source": [
    "def dropout_mask(size, dropout_rate):\n",
    "    dropout_num = int(size*dropout_rate)\n",
    "    dropout_vec = np.array([0.0]*dropout_num + [1.0]*(size-dropout_num))\n",
    "    np.random.shuffle(dropout_vec)  # Shuffle the mask to distribute the dropout randomly\n",
    "    return dropout_vec"
   ]
  },
  {
   "cell_type": "code",
   "execution_count": 120,
   "metadata": {
    "ExecuteTime": {
     "end_time": "2020-04-02T14:26:53.853632Z",
     "start_time": "2020-04-02T14:26:53.849944Z"
    },
    "scrolled": true
   },
   "outputs": [
    {
     "name": "stdout",
     "output_type": "stream",
     "text": [
      "[1. 0. 1. 1. 1. 1. 0. 1. 1. 1.]\n",
      "[1. 1. 1. 1. 1. 1. 1. 1. 0. 0.]\n"
     ]
    }
   ],
   "source": [
    "print(dropout_mask(10, 0.2))\n",
    "print(dropout_mask(10, 0.2))"
   ]
  },
  {
   "cell_type": "markdown",
   "metadata": {},
   "source": [
    "Now you need to implement the `forward_pass` function that passes the input x through the network up to the output layer for computing the probability for each class using the weight matrices in `W`. The ReLU activation function should be applied on each hidden layer. \n",
    "\n",
    "- `x`: a list of vocabulary indices each corresponding to a word in the document (input)\n",
    "- `W`: a list of weight matrices connecting each part of the network, e.g. for a network with a hidden and an output layer: W[0] is the weight matrix that connects the input to the first hidden layer, W[1] is the weight matrix that connects the hidden layer to the output layer.\n",
    "- `dropout_rate`: the dropout rate that is used to generate a random dropout mask vector applied after each hidden layer for regularisation.\n",
    "\n",
    "and returns:\n",
    "\n",
    "- `out_vals`: a dictionary of output values from each layer: h (the vector before the activation function), a (the resulting vector after passing h from the activation function), its dropout mask vector; and the prediction vector (probability for each class) from the output layer."
   ]
  },
  {
   "cell_type": "code",
   "execution_count": 121,
   "metadata": {
    "ExecuteTime": {
     "end_time": "2020-04-02T14:26:54.761268Z",
     "start_time": "2020-04-02T14:26:54.753402Z"
    },
    "scrolled": true
   },
   "outputs": [],
   "source": [
    "def forward_pass(x, W, dropout_rate=0.2):\n",
    "    out_vals = {} # Dictionary of h and a \n",
    "    h_vecs = [] # h list\n",
    "    a_vecs = [] # a vector passing h\n",
    "    dropout_vecs = [] # dropout mask for normalization\n",
    "\n",
    "    W_length = len(W)-1 \n",
    "    \n",
    "    input_weight = []\n",
    "    length_input = len(x)\n",
    "    \n",
    "    for i in x:\n",
    "        # print(i) x contains 300 id\n",
    "        input_weight.append(W[0][i]) # \n",
    "    \n",
    "    #Computing\n",
    "    h = np.sum(input_weight,axis=0)\n",
    "    #print(h.shape)\n",
    "    h = h /length_input\n",
    "    a = relu(h)\n",
    "    d = dropout_mask(len(a),dropout_rate)\n",
    "    output = a * d\n",
    "    \n",
    "    # Adding the h,a to coressponding vector\n",
    "    h_vecs.append(h)\n",
    "    a_vecs.append(a)\n",
    "    dropout_vecs.append(d)  \n",
    "          \n",
    "    # For layer k = 1,2,3..../do\n",
    "    for k in range(1, W_length):\n",
    "        h = np.dot(output,W[k])  \n",
    "        # Update the h value\n",
    "        a = relu(h)\n",
    "        d = dropout_mask(len(a) ,dropout_rate)\n",
    "        output = a*d \n",
    "        \n",
    "        h_vecs.append(h)\n",
    "        a_vecs.append(a)\n",
    "        dropout_vecs.append(d)\n",
    "    \n",
    "    #print(\"outshape\",output.shape)\n",
    "    #print(\"wshape\",W[W_length].shape)\n",
    "    \n",
    "    # Get prediction ˆy = hl\n",
    "    y_preds = softmax(np.dot(output,W[W_length]))\n",
    "    \n",
    "    # Assign the value calculated to the dictiorny\n",
    "    out_vals['h'] = h_vecs\n",
    "    out_vals['a'] = a_vecs\n",
    "    out_vals['dropout_vecs'] = dropout_vecs\n",
    "    out_vals['y_preds'] = y_preds\n",
    "    \n",
    "    # Return h z for all layers\n",
    "    return out_vals \n",
    "    "
   ]
  },
  {
   "cell_type": "markdown",
   "metadata": {},
   "source": [
    "The `backward_pass` function computes the gradients and updates the weights for each matrix in the network from the output to the input. It takes as input \n",
    "\n",
    "- `x`: a list of vocabulary indices each corresponding to a word in the document (input)\n",
    "- `y`: the true label\n",
    "- `W`: a list of weight matrices connecting each part of the network, e.g. for a network with a hidden and an output layer: W[0] is the weight matrix that connects the input to the first hidden layer, W[1] is the weight matrix that connects the hidden layer to the output layer.\n",
    "- `out_vals`: a dictionary of output values from a forward pass.\n",
    "- `learning_rate`: the learning rate for updating the weights.\n",
    "- `freeze_emb`: boolean value indicating whether the embedding weights will be updated.\n",
    "\n",
    "and returns:\n",
    "\n",
    "- `W`: the updated weights of the network.\n",
    "\n",
    "Hint: the gradients on the output layer are similar to the multiclass logistic regression."
   ]
  },
  {
   "cell_type": "code",
   "execution_count": 122,
   "metadata": {
    "ExecuteTime": {
     "end_time": "2020-05-11T08:24:13.732705Z",
     "start_time": "2020-05-11T08:24:13.729741Z"
    },
    "scrolled": true
   },
   "outputs": [],
   "source": [
    "def backward_pass(x, y, W, out_vals, lr=0.001, freeze_emb=False): \n",
    "    W_length = len(W)-1\n",
    "    W0_shape = W[W_length].shape[0]\n",
    "    W1_shape = W[W_length].shape[1]\n",
    "  \n",
    "    # y is the label array\n",
    "    y_layer = np.zeros(W[W_length].shape[1])\n",
    "    y_layer[y] = 1\n",
    "    # Compute the gradient on output layer\n",
    "    delta_L = out_vals['y_preds'] - y_layer\n",
    "    output_val = out_vals['a'][-1] * out_vals['dropout_vecs'][-1]\n",
    "    \n",
    "    output_value = output_val.reshape(W0_shape,1)\n",
    "    # Compute the gradient on output layer\n",
    "    gradient_value = np.dot(output_value,delta_L.reshape(1,W1_shape))\n",
    "\n",
    "    '''\n",
    "    When you combine softmax and categorical cross-entropy, the derivative of the loss with respect to the input logits simplifies beautifully. \n",
    "    The gradient that you get (from the combined derivative of the cross-entropy loss and the softmax function) turns out to be:\n",
    "    Gradient = Predicted Probabilities - True Labels\n",
    "    '''\n",
    "\n",
    "\n",
    "    \n",
    "     # Update the temp for layer\n",
    "    Wk = np.dot(W[W_length],delta_L).reshape(1,W0_shape)\n",
    "    g = out_vals['dropout_vecs'][W_length-1]\n",
    "    temp = Wk * g\n",
    "    # Update the W\n",
    "    W[W_length] = W[W_length] - lr*gradient_value\n",
    "    \n",
    "    for i in range(1, W_length):\n",
    "        \n",
    "        # f'(z) unpdate with activation der\n",
    "        der_v = relu_derivative(out_vals['h'][W_length-i]).reshape(1,W[W_length+1-i].shape[0])\n",
    "        \n",
    "        # Update the temp for hidden layer\n",
    "        temp = temp * der_v\n",
    "        output_v1 = out_vals['a'][W_length-1-i]*out_vals['dropout_vecs'][W_length-1-i]\n",
    "        output_value = output_v1.reshape(W[W_length-i].shape[0],1)\n",
    "        gradient_value = np.dot(output_value,temp)\n",
    "        temp_Wk = np.dot(W[W_length-i],temp.T).reshape(1,W[W_length-i].shape[0])\n",
    "        temp_g  = out_vals['dropout_vecs'][W_length-1-i]\n",
    "        temp = temp_Wk*temp_g\n",
    "        \n",
    "        # Calculate the new W\n",
    "        W[W_length-i] = W[W_length-i] - lr*gradient_value\n",
    "            \n",
    "        \n",
    "    # Update the W0 if freeze_emb==false\n",
    "    if freeze_emb == False:\n",
    "        x_array = np.zeros([W[0].shape[0],1])\n",
    "        x_array[x] = 1.0\n",
    "        lv_1 = relu_derivative(out_vals['h'][0]).reshape(1,W[0].shape[1])\n",
    "        temp = temp*lv_1\n",
    "        w_gradient = np.dot(x_array,temp)\n",
    "        W[0] = W[0] - lr * w_gradient # w[0] not freezze\n",
    "\n",
    "    return W\n",
    "\n",
    "\n"
   ]
  },
  {
   "cell_type": "markdown",
   "metadata": {
    "ExecuteTime": {
     "end_time": "2020-02-15T14:08:59.937442Z",
     "start_time": "2020-02-15T14:08:59.932221Z"
    }
   },
   "source": [
    "Finally you need to modify SGD to support back-propagation by using the `forward_pass` and `backward_pass` functions.\n",
    "\n",
    "The `SGD` function takes as input:\n",
    "\n",
    "- `X_tr`: array of training data (vectors)\n",
    "- `Y_tr`: labels of `X_tr`\n",
    "- `W`: the weights of the network (dictionary)\n",
    "- `X_dev`: array of development (i.e. validation) data (vectors)\n",
    "- `Y_dev`: labels of `X_dev`\n",
    "- `lr`: learning rate\n",
    "- `dropout`: regularisation strength\n",
    "- `epochs`: number of full passes over the training data\n",
    "- `tolerance`: stop training if the difference between the current and previous validation loss is smaller than a threshold\n",
    "- `freeze_emb`: boolean value indicating whether the embedding weights will be updated (to be used by the backward pass function).\n",
    "- `print_progress`: flag for printing the training progress (train/validation loss)\n",
    "\n",
    "\n",
    "and returns:\n",
    "\n",
    "- `weights`: the weights learned\n",
    "- `training_loss_history`: an array with the average losses of the whole training set after each epoch\n",
    "- `validation_loss_history`: an array with the average losses of the whole development set after each epoch"
   ]
  },
  {
   "cell_type": "code",
   "execution_count": 123,
   "metadata": {
    "ExecuteTime": {
     "end_time": "2020-04-02T15:09:19.021428Z",
     "start_time": "2020-04-02T15:09:19.017835Z"
    },
    "scrolled": true
   },
   "outputs": [],
   "source": [
    "def SGD(X_tr, Y_tr, W, X_dev=[], Y_dev=[], lr=0.001, \n",
    "        dropout=0.2, epochs=5, tolerance=0.001, freeze_emb=False, \n",
    "        print_progress=True):\n",
    "    \n",
    "    training_loss_history = []\n",
    "    validation_loss_history = []\n",
    "    loss_dev = float('inf')  # Initialize loss_dev to infinity or a large number\n",
    "\n",
    "    for epo in range(epochs):\n",
    "        indices = np.arange(len(X_tr))\n",
    "        np.random.shuffle(indices)\n",
    "        for i in indices:\n",
    "            x, y = X_tr[i], Y_tr[i]\n",
    "            layer_outputs = forward_pass(x, W, dropout_rate=dropout)\n",
    "            W = backward_pass(x, y, W, layer_outputs, lr=lr, freeze_emb=freeze_emb)\n",
    "        \n",
    "        # Compute the average training loss for the epoch\n",
    "        loss_train = np.mean([categorical_loss(Y_tr[i], forward_pass(X_tr[i], W, dropout_rate=0)['y_preds']) for i in indices])\n",
    "        training_loss_history.append(loss_train)\n",
    "        \n",
    "        # Initialize loss_valid for this scope\n",
    "        loss_valid = None\n",
    "\n",
    "        # Compute the average validation loss for the epoch if validation data is provided\n",
    "        if len(X_dev) > 0 and len(Y_dev) > 0:\n",
    "            loss_valid = np.mean([categorical_loss(Y_dev[i], forward_pass(X_dev[i], W, dropout_rate=0)['y_preds']) for i in range(len(X_dev))])\n",
    "            validation_loss_history.append(loss_valid)\n",
    "            \n",
    "            if print_progress:\n",
    "                print(f'Epoch: {epo+1}', '| Training loss:', loss_train, '| Validation loss:', loss_valid)\n",
    "\n",
    "            # Check for early stopping condition based on validation loss\n",
    "            if (loss_dev - loss_valid) < tolerance:\n",
    "                print(f'Early stopping... Validation loss did not improve more than {tolerance}')\n",
    "                break\n",
    "            \n",
    "            # Update loss_dev only if loss_valid is computed\n",
    "            loss_dev = loss_valid\n",
    "        elif print_progress:\n",
    "            # Only print training loss if no validation data is provided\n",
    "            print(f'Epoch: {epo+1}', '| Training loss:', loss_train)\n",
    "\n",
    "    return W, training_loss_history, validation_loss_history\n"
   ]
  },
  {
   "cell_type": "markdown",
   "metadata": {
    "ExecuteTime": {
     "end_time": "2020-02-15T14:10:15.772383Z",
     "start_time": "2020-02-15T14:10:15.767855Z"
    }
   },
   "source": [
    "Now you are ready to train and evaluate your neural net. First, you need to define your network using the `network_weights` function followed by SGD with backprop:"
   ]
  },
  {
   "cell_type": "code",
   "execution_count": 124,
   "metadata": {
    "ExecuteTime": {
     "end_time": "2020-04-02T15:09:33.643515Z",
     "start_time": "2020-04-02T15:09:33.640943Z"
    },
    "scrolled": true
   },
   "outputs": [
    {
     "name": "stdout",
     "output_type": "stream",
     "text": [
      "Shape W0 (2893, 300)\n",
      "Shape W1 (300, 3)\n"
     ]
    },
    {
     "name": "stdout",
     "output_type": "stream",
     "text": [
      "Epoch: 1 | Training loss: 0.7177110076136188 | Validation loss: 0.8268370497269479\n",
      "Epoch: 2 | Training loss: 0.49336876136400293 | Validation loss: 0.6287524804168991\n",
      "Epoch: 3 | Training loss: 0.3705501496856396 | Validation loss: 0.49803430232138973\n",
      "Epoch: 4 | Training loss: 0.2975970069403413 | Validation loss: 0.4217004381521089\n",
      "Epoch: 5 | Training loss: 0.24799173949242076 | Validation loss: 0.3682354600152721\n",
      "Epoch: 6 | Training loss: 0.21163560985984772 | Validation loss: 0.3306246304036282\n",
      "Epoch: 7 | Training loss: 0.18106706854810023 | Validation loss: 0.3090567793644929\n",
      "Epoch: 8 | Training loss: 0.15677658325230132 | Validation loss: 0.28887089413976896\n",
      "Epoch: 9 | Training loss: 0.13538777066466914 | Validation loss: 0.27868730036392614\n",
      "Epoch: 10 | Training loss: 0.11797348951048765 | Validation loss: 0.2681129836013007\n",
      "Epoch: 11 | Training loss: 0.10249328911517976 | Validation loss: 0.2647340729087284\n",
      "Epoch: 12 | Training loss: 0.09016969153779675 | Validation loss: 0.25771042526867577\n",
      "Epoch: 13 | Training loss: 0.07976168546155422 | Validation loss: 0.25400367569218535\n",
      "Epoch: 14 | Training loss: 0.0688541821897725 | Validation loss: 0.2551287207188496\n",
      "Early stopping... Validation loss did not improve more than 0.001\n"
     ]
    }
   ],
   "source": [
    "W = network_weights(vocab_size=len(vocab),embedding_dim=300,\n",
    "                    hidden_dim=[], num_classes=3)\n",
    "\n",
    "for i in range(len(W)):\n",
    "    print('Shape W'+str(i), W[i].shape)\n",
    "\n",
    "W, loss_tr, dev_loss = SGD(X_tr, Y_tr,\n",
    "                            W,\n",
    "                            X_dev=X_dev, \n",
    "                            Y_dev=Y_dev,\n",
    "                            lr=0.01, \n",
    "                            dropout=0.4,\n",
    "                            freeze_emb=False,\n",
    "                            tolerance=0.001,\n",
    "                            epochs=100)\n"
   ]
  },
  {
   "cell_type": "markdown",
   "metadata": {},
   "source": [
    "Plot the learning process:"
   ]
  },
  {
   "cell_type": "code",
   "execution_count": 22,
   "metadata": {
    "ExecuteTime": {
     "end_time": "2020-04-02T14:27:15.716497Z",
     "start_time": "2020-04-02T14:27:15.612736Z"
    },
    "scrolled": true
   },
   "outputs": [
    {
     "data": {
      "image/png": "[encoded data removed]",
      "text/plain": [
       "<Figure size 640x480 with 1 Axes>"
      ]
     },
     "metadata": {},
     "output_type": "display_data"
    }
   ],
   "source": [
    "plt.plot(loss_tr, label='Training loss')\n",
    "plt.plot(dev_loss, label='Validation loss')\n",
    "plt.xlabel('Epochs')\n",
    "plt.ylabel('Loss')\n",
    "plt.title('Training Monitoring\\n(Training and Validation History)')\n",
    "plt.legend()\n",
    "plt.show()"
   ]
  },
  {
   "cell_type": "markdown",
   "metadata": {},
   "source": [
    "Compute accuracy, precision, recall and F1-Score:"
   ]
  },
  {
   "cell_type": "code",
   "execution_count": 125,
   "metadata": {
    "ExecuteTime": {
     "end_time": "2020-04-02T15:10:11.037495Z",
     "start_time": "2020-04-02T15:10:11.034999Z"
    },
    "scrolled": true
   },
   "outputs": [
    {
     "name": "stdout",
     "output_type": "stream",
     "text": [
      "Accuracy: 0.8611111111111112\n",
      "Precision: 0.8637977841483345\n",
      "Recall: 0.8611111111111112\n",
      "F1-Score: 0.860497971887365\n"
     ]
    }
   ],
   "source": [
    "preds_te = [np.argmax(forward_pass(x, W, dropout_rate=0.0)['y_preds']) \n",
    "            for x,y in zip(X_te,Y_te)]\n",
    "print('Accuracy:', accuracy_score(Y_te,preds_te))\n",
    "print('Precision:', precision_score(Y_te,preds_te,average='macro'))\n",
    "print('Recall:', recall_score(Y_te,preds_te,average='macro'))\n",
    "print('F1-Score:', f1_score(Y_te,preds_te,average='macro'))"
   ]
  },
  {
   "cell_type": "markdown",
   "metadata": {},
   "source": [
    "### Discuss how did you choose model hyperparameters ? "
   ]
  },
  {
   "cell_type": "markdown",
   "metadata": {},
   "source": [
    "---\n",
    "Answer:\n",
    "\n",
    "The main hapyermeter is potential to be optimized should be learning rate, the embedding size and the drop out rate. \n",
    "Here the grid research for parameter will be chose to find the best hyperparameters. \n",
    "We used 0.005 and 0.05 for 2 times gap which can be used to find best value caused keeping the cure smooth and dont apper overfitting is fine, \n",
    "large learing rate may prevent  to get the best point which has lowest loss. for saving time we will not try small lr.\n",
    "\n",
    "The second parameter is embedding size, larger dimision may provide better performance but consider the time of computing the value will only start 2 smaller value.\n",
    "\n",
    "The third parameter is dropping out rate, dropout is a technique to drop selected neurons at any time during training. They are forever \"right to drop out\". \n",
    "This means that their contributions to downstream neurons are temporarily removed in the forward transfer, and any heavy updates will not therefore result in transferring neurons.\n",
    "\n",
    "---"
   ]
  },
  {
   "cell_type": "code",
   "execution_count": null,
   "metadata": {
    "scrolled": true
   },
   "outputs": [],
   "source": []
  },
  {
   "cell_type": "markdown",
   "metadata": {},
   "source": [
    "# Use Pre-trained Embeddings\n",
    "\n",
    "Now re-train the network using GloVe pre-trained embeddings. You need to modify the `backward_pass` function above to stop computing gradients and updating weights of the embedding matrix.\n",
    "\n",
    "Use the function below to obtain the embedding martix for your vocabulary. Generally, that should work without any problem. If you get errors, you can modify it."
   ]
  },
  {
   "cell_type": "code",
   "execution_count": 88,
   "metadata": {
    "ExecuteTime": {
     "end_time": "2020-04-02T14:27:32.020697Z",
     "start_time": "2020-04-02T14:27:32.015733Z"
    },
    "scrolled": true
   },
   "outputs": [],
   "source": [
    "def get_glove_embeddings(f_zip, f_txt, word2id, emb_size=300):\n",
    "    w_emb = np.zeros((len(word2id), emb_size))\n",
    "    with zipfile.ZipFile(f_zip) as z:\n",
    "        with z.open(f_txt) as f:\n",
    "            for line in f:\n",
    "                line = line.decode('utf-8')\n",
    "                word = line.split()[0]\n",
    "                     \n",
    "                if word in vocab:\n",
    "                    emb = np.array(line.strip('\\n').split()[1:]).astype(np.float32)\n",
    "                    w_emb[word2id[word]] +=emb\n",
    "    return w_emb"
   ]
  },
  {
   "cell_type": "code",
   "execution_count": 89,
   "metadata": {
    "ExecuteTime": {
     "end_time": "2020-04-02T14:28:54.548613Z",
     "start_time": "2020-04-02T14:27:32.780248Z"
    },
    "scrolled": true
   },
   "outputs": [],
   "source": [
    "w_glove = get_glove_embeddings(\"glove.840B.300d.zip\",\"glove.840B.300d.txt\",word2id)"
   ]
  },
  {
   "cell_type": "markdown",
   "metadata": {},
   "source": [
    "First, initialise the weights of your network using the `network_weights` function. Second, replace the weigths of the embedding matrix with `w_glove`. Finally, train the network by freezing the embedding weights: "
   ]
  },
  {
   "cell_type": "code",
   "execution_count": 90,
   "metadata": {
    "ExecuteTime": {
     "end_time": "2020-04-02T14:30:11.121198Z",
     "start_time": "2020-04-02T14:29:24.946124Z"
    },
    "scrolled": true
   },
   "outputs": [
    {
     "name": "stdout",
     "output_type": "stream",
     "text": [
      "Shape W0 (2893, 300)\n",
      "Shape W1 (300, 3)\n"
     ]
    }
   ],
   "source": [
    "# Initialise the weights of your network \n",
    "W = network_weights(vocab_size=len(vocab), embedding_dim=300, hidden_dim=[], num_classes=3, init_val = 0.1)\n",
    "\n",
    "#Replace the weigths of the embedding matrix with w_glove\n",
    "W[0] = w_glove\n",
    "\n",
    "for i in range(len(W)):\n",
    "    print('Shape W'+str(i), W[i].shape)\n"
   ]
  },
  {
   "cell_type": "code",
   "execution_count": 100,
   "metadata": {},
   "outputs": [
    {
     "name": "stdout",
     "output_type": "stream",
     "text": [
      "Epoch: 1 | Training loss: 0.3339518891522692 | Validation loss: 0.23864329644860774\n",
      "Epoch: 2 | Training loss: 0.3344697730402174 | Validation loss: 0.22058531012868135\n",
      "Epoch: 3 | Training loss: 0.3251426594521458 | Validation loss: 0.22149267923530022\n",
      "Early stopping... Validation loss did not improve more than 0.001\n"
     ]
    }
   ],
   "source": [
    "W, loss_tr, dev_loss = SGD(X_tr,Y_tr,W,X_dev=X_dev, Y_dev=Y_dev,lr=0.01,\n",
    "                                       dropout = 0.2, freeze_emb = True,tolerance=0.001,epochs=100)"
   ]
  },
  {
   "cell_type": "code",
   "execution_count": 101,
   "metadata": {
    "ExecuteTime": {
     "end_time": "2020-04-02T15:12:00.815184Z",
     "start_time": "2020-04-02T15:12:00.812563Z"
    },
    "scrolled": true
   },
   "outputs": [
    {
     "name": "stdout",
     "output_type": "stream",
     "text": [
      "Accuracy: 0.8844444444444445\n",
      "Precision: 0.8858971223219951\n",
      "Recall: 0.8844444444444445\n",
      "F1-Score: 0.8845442428642981\n"
     ]
    }
   ],
   "source": [
    "preds_te = [np.argmax(forward_pass(x, W, dropout_rate=0.0)['y_preds'])\n",
    "            for x,y in zip(X_te,Y_te)]\n",
    "\n",
    "print('Accuracy:', accuracy_score(Y_te,preds_te))\n",
    "print('Precision:', precision_score(Y_te,preds_te,average='macro'))\n",
    "print('Recall:', recall_score(Y_te,preds_te,average='macro'))\n",
    "print('F1-Score:', f1_score(Y_te,preds_te,average='macro'))\n"
   ]
  },
  {
   "cell_type": "markdown",
   "metadata": {},
   "source": [
    "### Discuss how did you choose model hyperparameters ? "
   ]
  },
  {
   "cell_type": "markdown",
   "metadata": {},
   "source": [
    "---\n",
    "Answer:\n",
    "\n",
    "The main hapyermeter is potential to be optimized should be learning rate, the embedding size and the drop out rate. Here the grid research for parameter will be chose to find the best hyperparameters. We used 0.005 and 0.05 for 2 times gap which can be used to find best value caused keeping the cure smooth and dont apper overfitting is fine, large learing rate may prevent  to get the best point which has lowest loss.\n",
    "\n",
    "The second parameter is embedding size，but here the size will be fixed to 300 because it is  pre-trained embeddings which limit the option.\n",
    "\n",
    "The third parameter is dropping out rate，dropout is a technique to drop selected neurons at any time during training. They are forever \"right to drop out\". This means that their contributions to downstream neurons are temporarily removed in the forward transfer, and any heavy updates will not therefore result in transferring neurons.\n",
    "\n",
    "---"
   ]
  },
  {
   "cell_type": "code",
   "execution_count": null,
   "metadata": {
    "scrolled": true
   },
   "outputs": [],
   "source": []
  },
  {
   "cell_type": "markdown",
   "metadata": {},
   "source": [
    "# Extend to support deeper architectures \n",
    "\n",
    "Extend the network to support back-propagation for more hidden layers. You need to modify the `backward_pass` function above to compute gradients and update the weights between intermediate hidden layers. Finally, train and evaluate a network with a deeper architecture. Do deeper architectures increase performance?"
   ]
  },
  {
   "cell_type": "code",
   "execution_count": 137,
   "metadata": {
    "ExecuteTime": {
     "end_time": "2020-04-02T14:58:51.764619Z",
     "start_time": "2020-04-02T14:58:47.483690Z"
    },
    "scrolled": true
   },
   "outputs": [
    {
     "name": "stdout",
     "output_type": "stream",
     "text": [
      "Shape of W0 (2893, 300)\n",
      "Shape of W1 (300, 150)\n",
      "Shape of W2 (150, 50)\n",
      "Shape of W3 (50, 3)\n",
      "Epoch: 1 | Training loss: 1.0924618363313818 | Validation loss: 1.0930076975408012\n",
      "Epoch: 2 | Training loss: 1.0867682129346699 | Validation loss: 1.0878486769420141\n",
      "Epoch: 3 | Training loss: 1.0781244010891124 | Validation loss: 1.0797604263200582\n",
      "Epoch: 4 | Training loss: 1.063694524443857 | Validation loss: 1.0664701620055466\n",
      "Epoch: 5 | Training loss: 1.038550714040834 | Validation loss: 1.0437492680804443\n",
      "Epoch: 6 | Training loss: 0.9948735240404134 | Validation loss: 1.0047443581190156\n",
      "Epoch: 7 | Training loss: 0.918616207943398 | Validation loss: 0.9347259088851378\n",
      "Epoch: 8 | Training loss: 0.7965630631382518 | Validation loss: 0.8191286354934371\n",
      "Epoch: 9 | Training loss: 0.6604713701806044 | Validation loss: 0.6781135535055007\n",
      "Epoch: 10 | Training loss: 0.5428275921376078 | Validation loss: 0.5432215952233153\n",
      "Epoch: 11 | Training loss: 0.4534459359624236 | Validation loss: 0.42925848053982607\n",
      "Epoch: 12 | Training loss: 0.4007630753062469 | Validation loss: 0.3472602360217196\n",
      "Epoch: 13 | Training loss: 0.368839614226197 | Validation loss: 0.28598392909175097\n",
      "Epoch: 14 | Training loss: 0.34912713980574867 | Validation loss: 0.25484257547615236\n",
      "Epoch: 15 | Training loss: 0.3452147783353663 | Validation loss: 0.23532980823884286\n",
      "Epoch: 16 | Training loss: 0.3496472073191856 | Validation loss: 0.22972432943106208\n",
      "Epoch: 17 | Training loss: 0.32716400668289036 | Validation loss: 0.20983551891470031\n",
      "Epoch: 18 | Training loss: 0.32408927680934063 | Validation loss: 0.21160432570348342\n",
      "Epoch: 19 | Training loss: 0.3177216712021096 | Validation loss: 0.19298218058960628\n",
      "Epoch: 20 | Training loss: 0.3161845160013447 | Validation loss: 0.20225925037432801\n",
      "Epoch: 21 | Training loss: 0.3134333244329194 | Validation loss: 0.19385724230925552\n",
      "Epoch: 22 | Training loss: 0.3106525279199597 | Validation loss: 0.18352439312334748\n",
      "Epoch: 23 | Training loss: 0.31097373891946567 | Validation loss: 0.19857518602801444\n",
      "Epoch: 24 | Training loss: 0.3049364961264222 | Validation loss: 0.1823669859732407\n",
      "Epoch: 25 | Training loss: 0.30005970576245083 | Validation loss: 0.17846764547397348\n",
      "Epoch: 26 | Training loss: 0.300159045281303 | Validation loss: 0.1738786261870275\n",
      "Epoch: 27 | Training loss: 0.3000017535333021 | Validation loss: 0.18727745768473952\n",
      "Epoch: 28 | Training loss: 0.2993798051272448 | Validation loss: 0.1928841141742986\n",
      "Epoch: 29 | Training loss: 0.29115578534547576 | Validation loss: 0.16738577230526544\n",
      "Epoch: 30 | Training loss: 0.2914962529994114 | Validation loss: 0.1789849345097315\n",
      "Epoch: 31 | Training loss: 0.29227817691020136 | Validation loss: 0.15851222802711462\n",
      "Epoch: 32 | Training loss: 0.29008551020212736 | Validation loss: 0.17196852628875794\n",
      "Epoch: 33 | Training loss: 0.2826267075159225 | Validation loss: 0.1593416646674216\n",
      "Epoch: 34 | Training loss: 0.2823955559686201 | Validation loss: 0.17129886140565417\n",
      "Epoch: 35 | Training loss: 0.2795577173258792 | Validation loss: 0.1565843398055954\n",
      "Epoch: 36 | Training loss: 0.2827764332200484 | Validation loss: 0.16219452425431036\n",
      "Epoch: 37 | Training loss: 0.2764679837573888 | Validation loss: 0.17089100850823216\n",
      "Epoch: 38 | Training loss: 0.2754938855476281 | Validation loss: 0.16227350663374934\n",
      "Epoch: 39 | Training loss: 0.2747494318030312 | Validation loss: 0.14947128594147008\n",
      "Epoch: 40 | Training loss: 0.2682562937896912 | Validation loss: 0.1745154954411828\n",
      "Epoch: 41 | Training loss: 0.2671892555163347 | Validation loss: 0.1570911795655552\n",
      "Epoch: 42 | Training loss: 0.2641985685785508 | Validation loss: 0.15040814292227103\n",
      "Epoch: 43 | Training loss: 0.2689545020258782 | Validation loss: 0.174156409859347\n",
      "Epoch: 44 | Training loss: 0.2607100919518677 | Validation loss: 0.1583323836363834\n",
      "Epoch: 45 | Training loss: 0.25754000611470834 | Validation loss: 0.14910952692340504\n",
      "Epoch: 46 | Training loss: 0.25439294794930856 | Validation loss: 0.15438811249339962\n",
      "Epoch: 47 | Training loss: 0.2577087604526299 | Validation loss: 0.15650685371706274\n",
      "Epoch: 48 | Training loss: 0.2635868937505673 | Validation loss: 0.13961064726443656\n",
      "Epoch: 49 | Training loss: 0.24691150382219576 | Validation loss: 0.14945880693685207\n",
      "Epoch: 50 | Training loss: 0.25447801072550685 | Validation loss: 0.17193787163164234\n",
      "Epoch: 51 | Training loss: 0.24494676011448754 | Validation loss: 0.15064029028396167\n",
      "Epoch: 52 | Training loss: 0.24290859464487374 | Validation loss: 0.15105508803276846\n",
      "Epoch: 53 | Training loss: 0.23933947933930938 | Validation loss: 0.1445422440844244\n",
      "Epoch: 54 | Training loss: 0.23720601175997644 | Validation loss: 0.14629658635881998\n",
      "Epoch: 55 | Training loss: 0.24878357208412155 | Validation loss: 0.15001153372970125\n",
      "Epoch: 56 | Training loss: 0.23843755885684345 | Validation loss: 0.1656739457230291\n",
      "Epoch: 57 | Training loss: 0.2362747275867373 | Validation loss: 0.1404324936823348\n",
      "Epoch: 58 | Training loss: 0.23160550148043427 | Validation loss: 0.13756300705340516\n",
      "Epoch: 59 | Training loss: 0.23509786040827352 | Validation loss: 0.13863356521955572\n",
      "Epoch: 60 | Training loss: 0.2314371868318937 | Validation loss: 0.14918970607049994\n",
      "Epoch: 61 | Training loss: 0.226940756369265 | Validation loss: 0.13942047272540206\n",
      "Epoch: 62 | Training loss: 0.22352340823272007 | Validation loss: 0.14531335978304108\n",
      "Epoch: 63 | Training loss: 0.22228997207220538 | Validation loss: 0.14404991233580544\n",
      "Epoch: 64 | Training loss: 0.228521758891716 | Validation loss: 0.1493578571851322\n",
      "Epoch: 65 | Training loss: 0.2209683081839513 | Validation loss: 0.14733390596492502\n",
      "Epoch: 66 | Training loss: 0.22340132206454835 | Validation loss: 0.15403145196653925\n",
      "Epoch: 67 | Training loss: 0.22100596745216242 | Validation loss: 0.13690241459472097\n",
      "Epoch: 68 | Training loss: 0.21765572596119406 | Validation loss: 0.1364699636866219\n",
      "Epoch: 69 | Training loss: 0.21603013430757623 | Validation loss: 0.15698463155949374\n",
      "Epoch: 70 | Training loss: 0.21252340238369138 | Validation loss: 0.14907777691103669\n",
      "Epoch: 71 | Training loss: 0.21785410156757323 | Validation loss: 0.14241152129238016\n",
      "Epoch: 72 | Training loss: 0.22142769657149747 | Validation loss: 0.1539289425672581\n",
      "Epoch: 73 | Training loss: 0.21587500250362535 | Validation loss: 0.14142792910995047\n",
      "Epoch: 74 | Training loss: 0.2065743806278104 | Validation loss: 0.1625010082708292\n",
      "Epoch: 75 | Training loss: 0.21263979852850065 | Validation loss: 0.1380636191584226\n",
      "Epoch: 76 | Training loss: 0.21244111113327283 | Validation loss: 0.16965463536042477\n",
      "Early stopping... Validation loss did not improve more than -0.03\n"
     ]
    }
   ],
   "source": [
    "W = network_weights(vocab_size=len(vocab),embedding_dim=300,hidden_dim=[150,50],num_classes=3, init_val = 0.1)\n",
    "W[0] = w_glove\n",
    "for i in range(len(W)):\n",
    "    print('Shape of W'+str(i), W[i].shape)\n",
    "    \n",
    "W, loss_tr, dev_loss = SGD(X_tr,Y_tr,W,X_dev=X_dev, Y_dev=Y_dev,lr= 0.001,dropout=0.1,freeze_emb=True,print_progress=True,\n",
    "tolerance=-0.03,epochs=100)"
   ]
  },
  {
   "cell_type": "code",
   "execution_count": 138,
   "metadata": {
    "ExecuteTime": {
     "end_time": "2020-04-02T15:11:51.994986Z",
     "start_time": "2020-04-02T15:11:51.992563Z"
    },
    "scrolled": true
   },
   "outputs": [
    {
     "name": "stdout",
     "output_type": "stream",
     "text": [
      "Accuracy: 0.8888888888888888\n",
      "Precision: 0.8885183371317532\n",
      "Recall: 0.888888888888889\n",
      "F1-Score: 0.8886693256491807\n"
     ]
    }
   ],
   "source": [
    "preds_te = [np.argmax(forward_pass(x, W, dropout_rate=0.0)['y_preds'])\n",
    "            for x,y in zip(X_te,Y_te)]\n",
    "\n",
    "print('Accuracy:', accuracy_score(Y_te,preds_te))\n",
    "print('Precision:', precision_score(Y_te,preds_te,average='macro'))\n",
    "print('Recall:', recall_score(Y_te,preds_te,average='macro'))\n",
    "print('F1-Score:', f1_score(Y_te,preds_te,average='macro'))"
   ]
  },
  {
   "cell_type": "markdown",
   "metadata": {},
   "source": [
    "### Discuss how did you choose model hyperparameters ? "
   ]
  },
  {
   "cell_type": "code",
   "execution_count": 139,
   "metadata": {},
   "outputs": [
    {
     "name": "stdout",
     "output_type": "stream",
     "text": [
      "Epoch: 1 | Training loss: 1.0929574270730762 | Validation loss: 1.0923079817835295\n",
      "Epoch: 2 | Training loss: 1.0858855548701296 | Validation loss: 1.0856807822977002\n",
      "Epoch: 3 | Training loss: 1.0750453020544821 | Validation loss: 1.0755244473729375\n",
      "Epoch: 4 | Training loss: 1.055817391071171 | Validation loss: 1.0576154740974835\n",
      "Epoch: 5 | Training loss: 1.0188939337739238 | Validation loss: 1.0235975610575025\n",
      "Epoch: 6 | Training loss: 0.9503192000184875 | Validation loss: 0.961266249693764\n",
      "Epoch: 7 | Training loss: 0.8367524282150195 | Validation loss: 0.8568251805369088\n",
      "Epoch: 8 | Training loss: 0.7007546732260854 | Validation loss: 0.7258778232201583\n",
      "Epoch: 9 | Training loss: 0.5881850424149166 | Validation loss: 0.6006330442775815\n",
      "Epoch: 10 | Training loss: 0.5079713854955952 | Validation loss: 0.5165907983605182\n",
      "Epoch: 11 | Training loss: 0.43295086473673206 | Validation loss: 0.42129164721933404\n",
      "Epoch: 12 | Training loss: 0.37938597897674337 | Validation loss: 0.34028342563826114\n",
      "Epoch: 13 | Training loss: 0.35029966326724365 | Validation loss: 0.27979581103869117\n",
      "Epoch: 14 | Training loss: 0.3303094499826351 | Validation loss: 0.24184869309050497\n",
      "Epoch: 15 | Training loss: 0.3067334281190184 | Validation loss: 0.21994445658967293\n",
      "Epoch: 16 | Training loss: 0.2948120213886357 | Validation loss: 0.2078937294449375\n",
      "Epoch: 17 | Training loss: 0.2784601134004845 | Validation loss: 0.2051640783393043\n",
      "Epoch: 18 | Training loss: 0.267860125649684 | Validation loss: 0.1904042866810014\n",
      "Epoch: 19 | Training loss: 0.262274660178794 | Validation loss: 0.1866327881641256\n",
      "Epoch: 20 | Training loss: 0.2540212687145197 | Validation loss: 0.17750015883759876\n",
      "Epoch: 21 | Training loss: 0.24261950575699218 | Validation loss: 0.1701484737555103\n",
      "Epoch: 22 | Training loss: 0.2375044969786497 | Validation loss: 0.15980477641767407\n",
      "Epoch: 23 | Training loss: 0.2278592766732505 | Validation loss: 0.16615509177420035\n",
      "Early stopping... Validation loss did not improve more than 0\n",
      "Epoch: 1 | Training loss: 1.099031093160525 | Validation loss: 1.0991739750263692\n",
      "Epoch: 2 | Training loss: 1.0966715936536588 | Validation loss: 1.0970141042505748\n",
      "Epoch: 3 | Training loss: 1.0941969045082125 | Validation loss: 1.094764636404416\n",
      "Epoch: 4 | Training loss: 1.0912794849500183 | Validation loss: 1.0921070082489353\n",
      "Epoch: 5 | Training loss: 1.0877370867449592 | Validation loss: 1.0889412134363996\n",
      "Epoch: 6 | Training loss: 1.0830815822066646 | Validation loss: 1.084804574827504\n",
      "Epoch: 7 | Training loss: 1.077127395343323 | Validation loss: 1.079359485016225\n",
      "Epoch: 8 | Training loss: 1.0682256420863383 | Validation loss: 1.0713606950664383\n",
      "Epoch: 9 | Training loss: 1.055559343272059 | Validation loss: 1.059685319995938\n",
      "Epoch: 10 | Training loss: 1.0378322894159335 | Validation loss: 1.043501744506774\n",
      "Epoch: 11 | Training loss: 1.0127955539168685 | Validation loss: 1.0205000570052372\n",
      "Epoch: 12 | Training loss: 0.9739774840430651 | Validation loss: 0.9853756749366914\n",
      "Epoch: 13 | Training loss: 0.9123876109871666 | Validation loss: 0.9301119097135498\n",
      "Epoch: 14 | Training loss: 0.8240754924524112 | Validation loss: 0.8480454285286259\n",
      "Epoch: 15 | Training loss: 0.7086270449085722 | Validation loss: 0.7365448834801243\n",
      "Epoch: 16 | Training loss: 0.5836000374140106 | Validation loss: 0.6058600901276262\n",
      "Epoch: 17 | Training loss: 0.48193398706074353 | Validation loss: 0.47817522663024903\n",
      "Epoch: 18 | Training loss: 0.40432987930866643 | Validation loss: 0.37408907322612267\n",
      "Epoch: 19 | Training loss: 0.36876752281184316 | Validation loss: 0.30879200967986237\n",
      "Epoch: 20 | Training loss: 0.35979020936327516 | Validation loss: 0.2585617828814548\n",
      "Epoch: 21 | Training loss: 0.3487519407697073 | Validation loss: 0.22099130124312694\n",
      "Epoch: 22 | Training loss: 0.3474031208782928 | Validation loss: 0.20738366835532607\n",
      "Epoch: 23 | Training loss: 0.32318896577519457 | Validation loss: 0.20095724220076464\n",
      "Epoch: 24 | Training loss: 0.3276583790377604 | Validation loss: 0.17951418712866446\n",
      "Epoch: 25 | Training loss: 0.33166313192436236 | Validation loss: 0.1900058144992282\n",
      "Early stopping... Validation loss did not improve more than 0\n",
      "Epoch: 1 | Training loss: 1.0962743118889684 | Validation loss: 1.0967334313586408\n",
      "Epoch: 2 | Training loss: 1.0949933227171864 | Validation loss: 1.0955587023908258\n",
      "Epoch: 3 | Training loss: 1.0936462095559378 | Validation loss: 1.0943633418552112\n",
      "Epoch: 4 | Training loss: 1.0920745912017709 | Validation loss: 1.0929777485729142\n",
      "Epoch: 5 | Training loss: 1.0903027144765354 | Validation loss: 1.0914085174756503\n",
      "Epoch: 6 | Training loss: 1.0881844799643254 | Validation loss: 1.0894836192449016\n",
      "Epoch: 7 | Training loss: 1.0855504264828513 | Validation loss: 1.0871320003503995\n",
      "Epoch: 8 | Training loss: 1.082432596771862 | Validation loss: 1.084391528233587\n",
      "Epoch: 9 | Training loss: 1.0787153817646022 | Validation loss: 1.0810782777526344\n",
      "Epoch: 10 | Training loss: 1.0741216449979298 | Validation loss: 1.0770214489478094\n",
      "Epoch: 11 | Training loss: 1.0687008928097952 | Validation loss: 1.0722711957282176\n",
      "Epoch: 12 | Training loss: 1.06213361945549 | Validation loss: 1.0664814421815902\n",
      "Epoch: 13 | Training loss: 1.0538037872589399 | Validation loss: 1.0591584862547585\n",
      "Epoch: 14 | Training loss: 1.0431595904896325 | Validation loss: 1.0496192854373552\n",
      "Epoch: 15 | Training loss: 1.0291494908117853 | Validation loss: 1.0370292660838156\n",
      "Epoch: 16 | Training loss: 1.0115451187478701 | Validation loss: 1.0210362019917567\n",
      "Epoch: 17 | Training loss: 0.9884427767046469 | Validation loss: 1.000114862018427\n",
      "Epoch: 18 | Training loss: 0.9589540682044558 | Validation loss: 0.9735179423640928\n",
      "Epoch: 19 | Training loss: 0.9186705508049026 | Validation loss: 0.9355024773755743\n",
      "Epoch: 20 | Training loss: 0.8677799878290228 | Validation loss: 0.8870895486801226\n",
      "Epoch: 21 | Training loss: 0.7995611099726601 | Validation loss: 0.8209510594125329\n",
      "Epoch: 22 | Training loss: 0.7202409803591499 | Validation loss: 0.7399566640703273\n",
      "Epoch: 23 | Training loss: 0.6380297028529082 | Validation loss: 0.6518028526859492\n",
      "Epoch: 24 | Training loss: 0.5642894767872989 | Validation loss: 0.5710453361973135\n",
      "Epoch: 25 | Training loss: 0.506918804736132 | Validation loss: 0.4859532352799816\n",
      "Epoch: 26 | Training loss: 0.46472526011809107 | Validation loss: 0.42158803745572965\n",
      "Epoch: 27 | Training loss: 0.43398399522162395 | Validation loss: 0.3690331126061946\n",
      "Epoch: 28 | Training loss: 0.4132261767682215 | Validation loss: 0.33171389689812936\n",
      "Epoch: 29 | Training loss: 0.4002046085544334 | Validation loss: 0.2955729185761599\n",
      "Epoch: 30 | Training loss: 0.39395225603933204 | Validation loss: 0.26750165386192437\n",
      "Epoch: 31 | Training loss: 0.37935945777997004 | Validation loss: 0.2350247361409147\n",
      "Epoch: 32 | Training loss: 0.3854092489176862 | Validation loss: 0.22217092899110363\n",
      "Epoch: 33 | Training loss: 0.3766401292488035 | Validation loss: 0.20762185680483833\n",
      "Epoch: 34 | Training loss: 0.3804267852810579 | Validation loss: 0.20444822431634202\n",
      "Epoch: 35 | Training loss: 0.3988405689607318 | Validation loss: 0.19855317506111517\n",
      "Epoch: 36 | Training loss: 0.39570401633724445 | Validation loss: 0.19489706614249547\n",
      "Epoch: 37 | Training loss: 0.38682517698930874 | Validation loss: 0.21639425377195476\n",
      "Early stopping... Validation loss did not improve more than 0\n",
      "Epoch: 1 | Training loss: 0.5621583301946184 | Validation loss: 0.5735179664247454\n",
      "Epoch: 2 | Training loss: 0.30002714328639474 | Validation loss: 0.21438424504014325\n",
      "Epoch: 3 | Training loss: 0.19677555000586835 | Validation loss: 0.20221043681675877\n",
      "Epoch: 4 | Training loss: 0.1502949808535296 | Validation loss: 0.1634229088237079\n",
      "Epoch: 5 | Training loss: 0.10799178683320432 | Validation loss: 0.15440623479757615\n",
      "Epoch: 6 | Training loss: 0.07579990886037655 | Validation loss: 0.14336662226140548\n",
      "Epoch: 7 | Training loss: 0.09906904804041956 | Validation loss: 0.34047101370086913\n",
      "Early stopping... Validation loss did not improve more than 0\n",
      "Epoch: 1 | Training loss: 0.9421227163042984 | Validation loss: 0.9585867505718727\n",
      "Epoch: 2 | Training loss: 0.35608419806582287 | Validation loss: 0.27413826985169804\n",
      "Epoch: 3 | Training loss: 0.28859110836300433 | Validation loss: 0.1790280445912255\n",
      "Epoch: 4 | Training loss: 0.25459347703123936 | Validation loss: 0.2485059690566438\n",
      "Early stopping... Validation loss did not improve more than 0\n",
      "Epoch: 1 | Training loss: 1.062544388535025 | Validation loss: 1.0684356734558411\n",
      "Epoch: 2 | Training loss: 0.6732861269346275 | Validation loss: 0.7038761335732646\n",
      "Epoch: 3 | Training loss: 0.3772182831266541 | Validation loss: 0.250124863512943\n",
      "Epoch: 4 | Training loss: 0.36681474559371613 | Validation loss: 0.18307060924744362\n",
      "Epoch: 5 | Training loss: 0.38362829243542784 | Validation loss: 0.22846451991482467\n",
      "Early stopping... Validation loss did not improve more than 0\n"
     ]
    }
   ],
   "source": [
    "learning_rate_list = [0.001, 0.01]\n",
    "drop_out_rate_list = [0.1, 0.2, 0.3]\n",
    "test_score = []\n",
    "hyper_list = []\n",
    "all_list = []\n",
    "\n",
    "for lr in learning_rate_list:\n",
    "    for drop in drop_out_rate_list:\n",
    "        W = network_weights(vocab_size=len(vocab),embedding_dim=300,hidden_dim=[160,40],num_classes=3, init_val = 0.1)\n",
    "            #Replace the weigths of the embedding matrix with w_glove\n",
    "        W[0] = w_glove\n",
    "        W, loss_tr, dev_loss = SGD(X_tr,Y_tr,W,X_dev=X_dev, Y_dev=Y_dev,lr=lr, \n",
    "                                   dropout = drop,freeze_emb=False,tolerance=0,epochs=100,print_progress=True)    \n",
    "        # Results and Scores\n",
    "        preds_te = [np.argmax(forward_pass(x, W, dropout_rate=0.0)['y_preds'])+1 for x,y in zip(X_te,Y_te)]\n",
    "        accuracy = accuracy_score(Y_te,preds_te)\n",
    "        precision = precision_score(Y_te,preds_te,average='macro')\n",
    "        Recall =recall_score(Y_te,preds_te,average='macro')\n",
    "        F_Score =f1_score(Y_te,preds_te,average='macro')\n",
    "        score = [accuracy, precision, Recall,F_Score]\n",
    "            \n",
    "        test_score.append(accuracy)\n",
    "        all_list.append([accuracy, precision, Recall, F_Score])\n",
    "        hyper = [lr, drop]\n",
    "        hyper_list.append(hyper)"
   ]
  },
  {
   "cell_type": "code",
   "execution_count": 212,
   "metadata": {},
   "outputs": [
    {
     "name": "stdout",
     "output_type": "stream",
     "text": [
      "The best parameter and the F1-score on test set\n",
      " lr: 0.001  drop_rate: 0.2  Accuracy: 0.8944444444444445 A/P/R/F [0.8944444444444445, 0.8941571128669713, 0.8944444444444445, 0.8939764880442845]\n"
     ]
    }
   ],
   "source": [
    "best_result = max(test_score)\n",
    "best_id = test_score.index(best_result)\n",
    "best_hyper = hyper_list[best_id]\n",
    "best_S = all_list[best_id]\n",
    "print(\"The best parameter and the F1-score on test set\")\n",
    "print(\" lr:\", best_hyper[0],\" drop_rate:\" ,best_hyper[1] ,\" Accuracy:\", best_result, \"A/P/R/F\",best_S)"
   ]
  },
  {
   "cell_type": "markdown",
   "metadata": {},
   "source": [
    "## Full Results\n",
    "\n",
    "Add your final results here:\n",
    "\n",
    "| Model | Precision  | Recall  | F1-Score  | Accuracy\n",
    "|:-:|:-:|:-:|:-:|:-:|\n",
    "| Average Embedding  |   |   |   |   |\n",
    "| Average Embedding (Pre-trained)  |   |   |   |   |\n",
    "| Average Embedding (Pre-trained) + X hidden layers    |   |   |   |   |\n",
    "\n",
    "\n",
    "Please discuss why your best performing model is better than the rest and provide a bried error analaysis."
   ]
  },
  {
   "cell_type": "markdown",
   "metadata": {},
   "source": [
    "---\n",
    "Answer:\n",
    "\n",
    "The results of table clear show that the Average Embedding (Pre-trained) + X hidden layers > Average Embedding (Pre-trained) > Average Embedding.\n",
    "\n",
    "This is reasonable result because Pre_trained model embedding W matrix was train by a large text corpus so it should have better geralization ability and have a better initilization on model when trained.\n",
    "\n",
    "Deeper architectures architectures has more layers can generate more detials features， the deeper network can also provide modeling of complex nonlinear systems(like this classification NLP problem), and the additional layers provide a higher level of abstraction for the model, thus improving the ability of the model. However this may also have significant increase on the complexity. That may be the reason that we failed to have a large optimisation on grid search.\n",
    "\n",
    "In general, all model have accurcy higher than 85%， they are all avaliable and preformed good.\n",
    "\n",
    "---"
   ]
  },
  {
   "cell_type": "code",
   "execution_count": null,
   "metadata": {
    "scrolled": true
   },
   "outputs": [],
   "source": []
  }
 ],
 "metadata": {
  "kernelspec": {
   "display_name": "Python 3 (ipykernel)",
   "language": "python",
   "name": "python3"
  },
  "language_info": {
   "codemirror_mode": {
    "name": "ipython",
    "version": 3
   },
   "file_extension": ".py",
   "mimetype": "text/x-python",
   "name": "python",
   "nbconvert_exporter": "python",
   "pygments_lexer": "ipython3",
   "version": "3.12.2"
  }
 },
 "nbformat": 4,
 "nbformat_minor": 2
}
